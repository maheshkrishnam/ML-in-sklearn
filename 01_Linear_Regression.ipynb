{
  "cells": [
    {
      "cell_type": "code",
      "execution_count": null,
      "metadata": {
        "id": "T-csdZEz1ZAt"
      },
      "outputs": [],
      "source": [
        "medical_charges_url = 'https://raw.githubusercontent.com/JovianML/opendatasets/master/data/medical-charges.csv'"
      ]
    },
    {
      "cell_type": "code",
      "execution_count": null,
      "metadata": {
        "id": "9-n-Dnjn1ZAv"
      },
      "outputs": [],
      "source": [
        "medical_charges_url"
      ]
    },
    {
      "cell_type": "code",
      "execution_count": null,
      "metadata": {
        "id": "jjY2aB9t1ZAy"
      },
      "outputs": [],
      "source": [
        "# downloading the data using urllib.request\n",
        "\n",
        "from urllib.request import urlretrieve\n",
        "urlretrieve(medical_charges_url, 'medical.csv')"
      ]
    },
    {
      "cell_type": "code",
      "execution_count": null,
      "metadata": {
        "id": "cvelLIIM1ZA2"
      },
      "outputs": [],
      "source": [
        "import pandas as pd\n",
        "import numpy as np\n",
        "import matplotlib\n",
        "import matplotlib.pyplot as plt\n",
        "import seaborn as sns\n",
        "%matplotlib inline"
      ]
    },
    {
      "cell_type": "markdown",
      "metadata": {
        "id": "G8rFySgb1ZA3"
      },
      "source": [
        "### Data Analysis"
      ]
    },
    {
      "cell_type": "code",
      "execution_count": null,
      "metadata": {
        "id": "Zwz3AyV31ZA5"
      },
      "outputs": [],
      "source": [
        "df = pd.read_csv('medical.csv')\n",
        "df.head()"
      ]
    },
    {
      "cell_type": "code",
      "execution_count": null,
      "metadata": {
        "id": "2y_Jy4WO1ZA7"
      },
      "outputs": [],
      "source": [
        "df.info()"
      ]
    },
    {
      "cell_type": "code",
      "execution_count": null,
      "metadata": {
        "id": "hbHrM4_a1ZA9"
      },
      "outputs": [],
      "source": [
        "df.age.min(), df.age.max()"
      ]
    },
    {
      "cell_type": "code",
      "execution_count": null,
      "metadata": {
        "id": "SwKiNPGp1ZA-"
      },
      "outputs": [],
      "source": [
        "df.sex.value_counts()"
      ]
    },
    {
      "cell_type": "code",
      "execution_count": null,
      "metadata": {
        "id": "DwtG0ORd1ZBE"
      },
      "outputs": [],
      "source": [
        "df.bmi.min(), df.bmi.max()"
      ]
    },
    {
      "cell_type": "code",
      "execution_count": null,
      "metadata": {
        "id": "9d7mHnX31ZBF"
      },
      "outputs": [],
      "source": [
        "df.children.value_counts()"
      ]
    },
    {
      "cell_type": "code",
      "execution_count": null,
      "metadata": {
        "id": "W0XcmuK71ZBF"
      },
      "outputs": [],
      "source": [
        "df.smoker.value_counts()"
      ]
    },
    {
      "cell_type": "code",
      "execution_count": null,
      "metadata": {
        "id": "QdD610221ZBG"
      },
      "outputs": [],
      "source": [
        "df.region.value_counts()\n",
        "# we have 4 regions"
      ]
    },
    {
      "cell_type": "code",
      "execution_count": null,
      "metadata": {
        "id": "Z9WLaOMe1ZBH"
      },
      "outputs": [],
      "source": [
        "df.charges.min(), df.charges.max()\n",
        "# how much they spend on medical thing"
      ]
    },
    {
      "cell_type": "code",
      "execution_count": null,
      "metadata": {
        "id": "Gem7lOFV1ZBH"
      },
      "outputs": [],
      "source": [
        "df.describe()"
      ]
    },
    {
      "cell_type": "code",
      "execution_count": null,
      "metadata": {
        "id": "5N_WNnLV1ZBI"
      },
      "outputs": [],
      "source": [
        "# setting the style of seaborn and matplot\n",
        "\n",
        "# sns.set_style('darkgrid')\n",
        "# matplotlib.rcParams['font.size'] = 14\n",
        "# matplotlib.rcParams['figure.figsize'] = (10,6)\n",
        "# matplotlib.rcParams['figure.facecolor'] = '#00000000'\n"
      ]
    },
    {
      "cell_type": "code",
      "execution_count": null,
      "metadata": {
        "id": "wgVVKH_J1ZBI"
      },
      "outputs": [],
      "source": [
        "sns.set(font_scale=0.6)"
      ]
    },
    {
      "cell_type": "code",
      "execution_count": null,
      "metadata": {
        "id": "NU1k0CuX1ZBJ"
      },
      "outputs": [],
      "source": [
        "sns.countplot(df, x='age')\n",
        "# dstribution of age"
      ]
    },
    {
      "cell_type": "markdown",
      "metadata": {
        "id": "_xRHXkxR1ZBK"
      },
      "source": [
        "- distribution of age is uniform except those for age of 18 and 19\n",
        "- one of the reason may be that you are eligible to apply for ensurance after age of 18"
      ]
    },
    {
      "cell_type": "code",
      "execution_count": null,
      "metadata": {
        "id": "tVhpHpH21ZBK"
      },
      "outputs": [],
      "source": [
        "sns.histplot(df.bmi)"
      ]
    },
    {
      "cell_type": "markdown",
      "metadata": {
        "id": "3Bcm8U3D1ZBK"
      },
      "source": [
        "- BMI is normally distributed\n",
        "- Most of the people are overweight"
      ]
    },
    {
      "cell_type": "code",
      "execution_count": null,
      "metadata": {
        "id": "du_NVV6l1ZBL"
      },
      "outputs": [],
      "source": [
        "sns.histplot(df, x='charges', hue='smoker')"
      ]
    },
    {
      "cell_type": "markdown",
      "metadata": {
        "id": "P1-Ufrhb1ZBL"
      },
      "source": [
        "- Most people are spending lower than 15k\n",
        "- Smoker having higher medical expense"
      ]
    },
    {
      "cell_type": "code",
      "execution_count": null,
      "metadata": {
        "id": "GbVqnkFW1ZBL"
      },
      "outputs": [],
      "source": [
        "sns.barplot(df, y='charges', x='region')"
      ]
    },
    {
      "cell_type": "code",
      "execution_count": null,
      "metadata": {
        "id": "HXaT-Dlm1ZBM"
      },
      "outputs": [],
      "source": [
        "sns.barplot(df, x='sex', y='charges')"
      ]
    },
    {
      "cell_type": "code",
      "execution_count": null,
      "metadata": {
        "id": "RlxAb0On1ZBM"
      },
      "outputs": [],
      "source": [
        "sns.barplot(df, x='children', y='charges')"
      ]
    },
    {
      "cell_type": "markdown",
      "metadata": {
        "id": "agsUNgpD1ZBM"
      },
      "source": [
        "- People with 5 children are spending less\n",
        "- This may be because of their higher regular expenses"
      ]
    },
    {
      "cell_type": "code",
      "execution_count": null,
      "metadata": {
        "id": "8KHD9HSA1ZBN"
      },
      "outputs": [],
      "source": [
        "smoker_counts_by_sex = df.groupby(['sex', 'smoker']).size()\n",
        "smoker_counts_by_sex"
      ]
    },
    {
      "cell_type": "code",
      "execution_count": null,
      "metadata": {
        "id": "CC8LZ5Uq1ZBN"
      },
      "outputs": [],
      "source": [
        "sns.catplot(df, x='smoker', hue='sex', kind='count')"
      ]
    },
    {
      "cell_type": "markdown",
      "metadata": {
        "id": "BzdpUPiU1ZBN"
      },
      "source": [
        "- 20% people of smokers\n",
        "- Relatively more male smokers than female one"
      ]
    },
    {
      "cell_type": "code",
      "execution_count": null,
      "metadata": {
        "id": "VN2yN61t1ZBO"
      },
      "outputs": [],
      "source": [
        "sns.scatterplot(df, x='age', y='charges', hue='smoker')"
      ]
    },
    {
      "cell_type": "markdown",
      "metadata": {
        "id": "dZyfPIYk1ZBP"
      },
      "source": [
        "- There are 3 clusters --> nearly linear\n",
        "- Non smoker having data in lower two sections and smoker having data in upper two sections"
      ]
    },
    {
      "cell_type": "markdown",
      "metadata": {
        "id": "ZgIZRX771ZBP"
      },
      "source": [
        "- We can see that every time smoker person is making two groups this maybe due to their smoking habits that some smoke occasionally and some regularly"
      ]
    },
    {
      "cell_type": "code",
      "execution_count": null,
      "metadata": {
        "id": "GPsQRkw51ZBP"
      },
      "outputs": [],
      "source": [
        "sns.scatterplot(df, x='bmi', y='charges', hue='smoker')"
      ]
    },
    {
      "cell_type": "markdown",
      "metadata": {
        "id": "DcBp0K9D1ZBP"
      },
      "source": [
        "- Here we can also see two clusters of smokers one is bmi < 30 and other is bmi > 30\n",
        "- Smoking combined with obesity leads more medical expenses"
      ]
    },
    {
      "cell_type": "code",
      "execution_count": null,
      "metadata": {
        "id": "gbhZvC_41ZBQ"
      },
      "outputs": [],
      "source": [
        "sns.violinplot(df, x='children', y='charges')"
      ]
    },
    {
      "cell_type": "code",
      "execution_count": null,
      "metadata": {
        "id": "TTV5-4-w1ZBQ"
      },
      "outputs": [],
      "source": [
        "df.charges.corr(df.age)"
      ]
    },
    {
      "cell_type": "code",
      "execution_count": null,
      "metadata": {
        "id": "_3rCdXiY1ZBQ"
      },
      "outputs": [],
      "source": [
        "df.charges.corr(df.bmi)"
      ]
    },
    {
      "cell_type": "code",
      "execution_count": null,
      "metadata": {
        "id": "KVloTcZm1ZBR"
      },
      "outputs": [],
      "source": [
        "df.charges.corr(df.children)"
      ]
    },
    {
      "cell_type": "code",
      "execution_count": null,
      "metadata": {
        "id": "FvH1Ec0r1ZBc"
      },
      "outputs": [],
      "source": [
        "df.smoker.head()"
      ]
    },
    {
      "cell_type": "code",
      "execution_count": null,
      "metadata": {
        "id": "ZgxlO8Zh1ZBc"
      },
      "outputs": [],
      "source": [
        "smoker_dict = {'yes': 1, 'no': 0}\n",
        "smoker_map = df.smoker.map(smoker_dict)\n",
        "smoker_map.head()"
      ]
    },
    {
      "cell_type": "markdown",
      "metadata": {
        "id": "qrUSWJ0o1ZBd"
      },
      "source": [
        "- highest correlation till now --> strong positive correlation"
      ]
    },
    {
      "cell_type": "code",
      "execution_count": null,
      "metadata": {
        "id": "cW3V4Pdd1ZBd"
      },
      "outputs": [],
      "source": [
        "df.charges.corr(smoker_map)\n",
        "# Strogly correlated"
      ]
    },
    {
      "cell_type": "code",
      "execution_count": null,
      "metadata": {
        "id": "qZg4FQ7t1ZBd"
      },
      "outputs": [],
      "source": [
        "df_corr = df.select_dtypes(include=['number'])\n",
        "df_corr.corr()"
      ]
    },
    {
      "cell_type": "code",
      "execution_count": null,
      "metadata": {
        "id": "JAyezaej1ZBe"
      },
      "outputs": [],
      "source": [
        "sns.heatmap(df_corr.corr())"
      ]
    },
    {
      "cell_type": "code",
      "execution_count": null,
      "metadata": {
        "id": "HrTjRh1X1ZBe"
      },
      "outputs": [],
      "source": []
    },
    {
      "cell_type": "code",
      "execution_count": null,
      "metadata": {
        "id": "-FJzYZVa1ZBe"
      },
      "outputs": [],
      "source": []
    },
    {
      "cell_type": "markdown",
      "metadata": {
        "id": "m6KTimG81ZBf"
      },
      "source": [
        "### Linear Regression using a Single Feature"
      ]
    },
    {
      "cell_type": "code",
      "execution_count": null,
      "metadata": {
        "id": "op5Tcbag1ZBf"
      },
      "outputs": [],
      "source": [
        "ns_df = df[df.smoker == 'no']\n",
        "ns_df.head()"
      ]
    },
    {
      "cell_type": "markdown",
      "metadata": {
        "id": "MIjteoaJ1ZBf"
      },
      "source": [
        "> we have a strong correlated of charges with age"
      ]
    },
    {
      "cell_type": "code",
      "execution_count": null,
      "metadata": {
        "id": "NCpzuJoD1ZBf"
      },
      "outputs": [],
      "source": [
        "sns.scatterplot(ns_df, x='age', y='charges')"
      ]
    },
    {
      "cell_type": "code",
      "execution_count": null,
      "metadata": {
        "id": "EzVSEeqw1ZBg"
      },
      "outputs": [],
      "source": [
        "sns.regplot(ns_df, x='age', y='charges')"
      ]
    },
    {
      "cell_type": "code",
      "execution_count": null,
      "metadata": {
        "id": "rH1jq_tt1ZBg"
      },
      "outputs": [],
      "source": [
        "sns.lmplot(df, x='age', y='charges', hue='smoker')"
      ]
    },
    {
      "cell_type": "markdown",
      "metadata": {
        "id": "tDyUGnaW1ZBh"
      },
      "source": [
        "- for linear regression between 'age' and 'charges' we have raltion:\n",
        "1.  y = m * x + c\n",
        "2.  charges = w * age + b\n",
        "\n",
        "- In machine learning we call ( slope --> weight ) and ( intercept --> bias )"
      ]
    },
    {
      "cell_type": "code",
      "execution_count": null,
      "metadata": {
        "id": "DFtjGVnZ1ZBi"
      },
      "outputs": [],
      "source": []
    },
    {
      "cell_type": "code",
      "execution_count": null,
      "metadata": {
        "id": "b2n72WTs1ZBi"
      },
      "outputs": [],
      "source": [
        "def es_charges(age, w, b):\n",
        "  return w*age + b"
      ]
    },
    {
      "cell_type": "code",
      "execution_count": null,
      "metadata": {
        "id": "UrKZX6r51ZBi"
      },
      "outputs": [],
      "source": [
        "w=50\n",
        "b=100\n",
        "es_charges(40, w, b)\n",
        "# wrong estimation"
      ]
    },
    {
      "cell_type": "code",
      "execution_count": null,
      "metadata": {
        "id": "G2iCg8Us1ZBi"
      },
      "outputs": [],
      "source": [
        "ages = ns_df.age\n",
        "est_charges = es_charges(ages, w, b)\n",
        "est_charges\n",
        "# way far from the original values"
      ]
    },
    {
      "cell_type": "code",
      "execution_count": null,
      "metadata": {
        "id": "y-k3tL6u1ZBj"
      },
      "outputs": [],
      "source": [
        "sns.lineplot(ns_df, x='age', y='charges')"
      ]
    },
    {
      "cell_type": "code",
      "execution_count": null,
      "metadata": {
        "id": "sAH6K_z41ZBk"
      },
      "outputs": [],
      "source": [
        "sns.lineplot(x=ages, y=est_charges)"
      ]
    },
    {
      "cell_type": "code",
      "execution_count": null,
      "metadata": {
        "id": "GpPx6Ah21ZBl"
      },
      "outputs": [],
      "source": [
        "sns.lineplot(ns_df, x='age', y='charges')\n",
        "sns.lineplot(x=ages, y=est_charges)"
      ]
    },
    {
      "cell_type": "code",
      "execution_count": null,
      "metadata": {
        "id": "47537t-B1ZBl"
      },
      "outputs": [],
      "source": [
        "def ck_data(w, b):\n",
        "  ages = ns_df.age\n",
        "  est_charges = es_charges(ages, w, b)\n",
        "\n",
        "  sns.lineplot(ns_df, x='age', y='charges')\n",
        "  sns.lineplot(x=ages, y=est_charges)"
      ]
    },
    {
      "cell_type": "code",
      "execution_count": null,
      "metadata": {
        "id": "6DurGojY1ZBm"
      },
      "outputs": [],
      "source": [
        "ck_data(250, -1600)"
      ]
    },
    {
      "cell_type": "code",
      "execution_count": null,
      "metadata": {
        "id": "W5NnvAoy1ZBm"
      },
      "outputs": [],
      "source": []
    },
    {
      "cell_type": "markdown",
      "metadata": {
        "id": "V7GESV291ZBm"
      },
      "source": [
        "#### Error"
      ]
    },
    {
      "cell_type": "code",
      "execution_count": null,
      "metadata": {
        "id": "8M7nAJQZ1ZBn"
      },
      "outputs": [],
      "source": [
        "def rmse(target, prediction):\n",
        "  return np.sqrt(np.mean(np.square(target-prediction)))\n",
        "\n",
        "def mse(target, prediction):\n",
        "  return np.mean(np.square(target-prediction))"
      ]
    },
    {
      "cell_type": "code",
      "execution_count": null,
      "metadata": {
        "id": "NTptHjHG1ZBn"
      },
      "outputs": [],
      "source": [
        "w=50\n",
        "b=100\n",
        "ck_data(w, b)"
      ]
    },
    {
      "cell_type": "code",
      "execution_count": null,
      "metadata": {
        "id": "qN8YFU4I1ZBo"
      },
      "outputs": [],
      "source": [
        "target = ns_df.charges\n",
        "prediction = es_charges(ns_df.age, w, b)\n",
        "rmse(target, prediction)    # --> ERROR --> tells you how bad is your model\n",
        "# on average each data is off by rmse(target, prediction)"
      ]
    },
    {
      "cell_type": "code",
      "execution_count": null,
      "metadata": {
        "id": "8oGJ7L061ZBo"
      },
      "outputs": [],
      "source": [
        "def calc_loss(w, b):\n",
        "  target = ns_df.charges\n",
        "  prediction = es_charges(ns_df.age, w, b)\n",
        "\n",
        "  ages = ns_df.age\n",
        "  sns.lineplot(ns_df, x='age', y='charges')\n",
        "  sns.lineplot(x=ages, y=prediction)\n",
        "\n",
        "  print(rmse(target, prediction))"
      ]
    },
    {
      "cell_type": "code",
      "execution_count": null,
      "metadata": {
        "id": "dBDqGEvm1ZBo"
      },
      "outputs": [],
      "source": [
        "calc_loss(250, -1400)"
      ]
    },
    {
      "cell_type": "code",
      "execution_count": null,
      "metadata": {
        "id": "5yhxKRFB1ZBp"
      },
      "outputs": [],
      "source": []
    },
    {
      "cell_type": "code",
      "execution_count": null,
      "metadata": {
        "id": "UH4KXcSf1ZBp"
      },
      "outputs": [],
      "source": []
    },
    {
      "cell_type": "markdown",
      "metadata": {
        "id": "NWWDm1sr1ZBp"
      },
      "source": [
        "### Optimizer\n",
        "\n",
        "Now we have to modify w and b to reduce the loss and improve the fit of the line to the data\n",
        "\n",
        "- Ordinary Least Squares (better for smaller datasets)\n",
        "- Stochastic Gradient Descent (better for larger datasets)\n",
        "\n",
        "Ordinary Least Squares directly computes for w and b, while  \n",
        "Gradient Descent uses iterative approach, starting with a random w and b and then slowly improving them using derivative"
      ]
    },
    {
      "cell_type": "code",
      "execution_count": null,
      "metadata": {
        "id": "hIaTSL3m1ZBq"
      },
      "outputs": [],
      "source": []
    },
    {
      "cell_type": "markdown",
      "metadata": {
        "id": "5ahJil391ZBq"
      },
      "source": [
        "### Linear Regression using Sklearn"
      ]
    },
    {
      "cell_type": "code",
      "execution_count": null,
      "metadata": {
        "id": "xkcPnZgL1ZBq"
      },
      "outputs": [],
      "source": [
        "from sklearn.linear_model import LinearRegression"
      ]
    },
    {
      "cell_type": "code",
      "execution_count": null,
      "metadata": {
        "id": "WKgDlYUJ1ZBr"
      },
      "outputs": [],
      "source": [
        "# Creating model object\n",
        "\n",
        "model = LinearRegression()"
      ]
    },
    {
      "cell_type": "markdown",
      "metadata": {
        "id": "nJeALxaN1ZBs"
      },
      "source": [
        "Every model have a fit method and this helps in finding the best fit line for the input and target"
      ]
    },
    {
      "cell_type": "code",
      "execution_count": null,
      "metadata": {
        "id": "cirhf1q51ZBt"
      },
      "outputs": [],
      "source": [
        "help(model.fit)"
      ]
    },
    {
      "cell_type": "code",
      "execution_count": null,
      "metadata": {
        "id": "EO24R2ac1ZBx"
      },
      "outputs": [],
      "source": [
        "# input should be a 2D array --> DataFrame not Series\n",
        "inputs = ns_df[['age']]\n",
        "# target can be 1D\n",
        "targets = ns_df.charges\n",
        "inputs.shape, targets.shape"
      ]
    },
    {
      "cell_type": "code",
      "execution_count": null,
      "metadata": {
        "id": "O9mr8YfL1ZBy"
      },
      "outputs": [],
      "source": [
        "model.fit(inputs, targets)"
      ]
    },
    {
      "cell_type": "code",
      "execution_count": null,
      "metadata": {
        "id": "YxdfXkzq1ZBz"
      },
      "outputs": [],
      "source": [
        "model.predict(np.array([[18], [28], [33]]))"
      ]
    },
    {
      "cell_type": "code",
      "execution_count": null,
      "metadata": {
        "id": "aSM5JeEU1ZB0"
      },
      "outputs": [],
      "source": [
        "ns_df.head(3)"
      ]
    },
    {
      "cell_type": "code",
      "execution_count": null,
      "metadata": {
        "id": "sqEuaFAa1ZB0"
      },
      "outputs": [],
      "source": [
        "predictions = model.predict(inputs)\n",
        "predictions"
      ]
    },
    {
      "cell_type": "code",
      "execution_count": null,
      "metadata": {
        "id": "MqIfpLIv1ZB0"
      },
      "outputs": [],
      "source": [
        "rmse(target, predictions)\n",
        "# mse(target, predictions)\n",
        "# model is off by 4662 on an average"
      ]
    },
    {
      "cell_type": "code",
      "execution_count": null,
      "metadata": {
        "id": "CRr64bo_1ZB0"
      },
      "outputs": [],
      "source": [
        "# coef_ constain --> weights and intercept_ contain --> intercept\n",
        "model.coef_, model.intercept_"
      ]
    },
    {
      "cell_type": "code",
      "execution_count": null,
      "metadata": {
        "id": "vsd8dA8d1ZB1"
      },
      "outputs": [],
      "source": []
    },
    {
      "cell_type": "markdown",
      "metadata": {
        "id": "sCRtgHxz1ZB1"
      },
      "source": [
        "> SGDRegressor"
      ]
    },
    {
      "cell_type": "code",
      "execution_count": null,
      "metadata": {
        "id": "f9F76L321ZB2"
      },
      "outputs": [],
      "source": [
        "from sklearn.linear_model import SGDRegressor\n",
        "model = SGDRegressor()"
      ]
    },
    {
      "cell_type": "code",
      "execution_count": null,
      "metadata": {
        "id": "attTEc8h1ZB3"
      },
      "outputs": [],
      "source": [
        "model.fit(inputs, targets)"
      ]
    },
    {
      "cell_type": "code",
      "execution_count": null,
      "metadata": {
        "id": "lvfIAMe_1ZB4"
      },
      "outputs": [],
      "source": [
        "model.coef_, model.intercept_"
      ]
    },
    {
      "cell_type": "code",
      "execution_count": null,
      "metadata": {
        "id": "3BHSVntj1ZB5"
      },
      "outputs": [],
      "source": [
        "predictions = model.predict(inputs)\n",
        "predictions"
      ]
    },
    {
      "cell_type": "code",
      "execution_count": null,
      "metadata": {
        "id": "PYGGOAMM1ZB6"
      },
      "outputs": [],
      "source": [
        "rmse(targets, predictions)"
      ]
    },
    {
      "cell_type": "markdown",
      "metadata": {
        "id": "wJNo3kca1ZB6"
      },
      "source": [
        "- Every time model is running it is giving different results"
      ]
    },
    {
      "cell_type": "code",
      "execution_count": null,
      "metadata": {
        "id": "Usl-3aMt1ZB7"
      },
      "outputs": [],
      "source": []
    },
    {
      "cell_type": "markdown",
      "metadata": {
        "id": "po3OI65-1ZB7"
      },
      "source": [
        "## Repeat all over with smoker data"
      ]
    },
    {
      "cell_type": "code",
      "execution_count": null,
      "metadata": {
        "id": "vzKLy_PM1ZB8"
      },
      "outputs": [],
      "source": [
        "s_df = df[df.smoker == 'yes']\n",
        "s_df.head()"
      ]
    },
    {
      "cell_type": "code",
      "execution_count": null,
      "metadata": {
        "id": "Tfg4BjC01ZB8"
      },
      "outputs": [],
      "source": [
        "inputs = s_df[['age']]\n",
        "targets = s_df.charges"
      ]
    },
    {
      "cell_type": "code",
      "execution_count": null,
      "metadata": {
        "id": "aEBnlfyv1ZB8"
      },
      "outputs": [],
      "source": [
        "model = LinearRegression()"
      ]
    },
    {
      "cell_type": "code",
      "execution_count": null,
      "metadata": {
        "id": "zKLDFeTi1ZB8"
      },
      "outputs": [],
      "source": [
        "model.fit(inputs, targets)"
      ]
    },
    {
      "cell_type": "code",
      "execution_count": null,
      "metadata": {
        "id": "bPJ9WMaA1ZB8"
      },
      "outputs": [],
      "source": [
        "predictions = model.predict(inputs)\n",
        "predictions"
      ]
    },
    {
      "cell_type": "code",
      "execution_count": null,
      "metadata": {
        "id": "k3v0m7bF1ZB9"
      },
      "outputs": [],
      "source": [
        "rmse(targets, predictions)"
      ]
    },
    {
      "cell_type": "code",
      "execution_count": null,
      "metadata": {
        "id": "nDnhdH761ZB9"
      },
      "outputs": [],
      "source": [
        "def calc_loss_s(w, b):\n",
        "  target = s_df.charges\n",
        "  prediction = es_charges(s_df.age, w, b)\n",
        "\n",
        "  ages = s_df.age\n",
        "  sns.lineplot(s_df, x='age', y='charges')\n",
        "  sns.lineplot(x=ages, y=prediction)\n",
        "\n",
        "  print(rmse(target, prediction))"
      ]
    },
    {
      "cell_type": "code",
      "execution_count": null,
      "metadata": {
        "id": "jvvzBirI1ZB-"
      },
      "outputs": [],
      "source": [
        "calc_loss_s(model.coef_, model.intercept_)"
      ]
    },
    {
      "cell_type": "code",
      "execution_count": null,
      "metadata": {
        "id": "xzRDnR9U1ZB_"
      },
      "outputs": [],
      "source": []
    },
    {
      "cell_type": "code",
      "execution_count": null,
      "metadata": {
        "id": "3saTcRUF1ZB_"
      },
      "outputs": [],
      "source": []
    },
    {
      "cell_type": "code",
      "execution_count": null,
      "metadata": {
        "id": "sqpDBbVN1ZB_"
      },
      "outputs": [],
      "source": []
    },
    {
      "cell_type": "code",
      "execution_count": null,
      "metadata": {
        "id": "VcGXI2q11ZB_"
      },
      "outputs": [],
      "source": []
    },
    {
      "cell_type": "markdown",
      "metadata": {
        "id": "dXOgRwog1ZB_"
      },
      "source": [
        "## Machine Learning"
      ]
    },
    {
      "cell_type": "markdown",
      "metadata": {
        "id": "8_9kXcIt1ZB_"
      },
      "source": [
        "Every machine learning problem has three compents:\n",
        "1. Model\n",
        "2. Cost Function\n",
        "3. Optimizer"
      ]
    },
    {
      "cell_type": "code",
      "execution_count": null,
      "metadata": {
        "id": "CMM1EaLO1ZCA"
      },
      "outputs": [],
      "source": [
        "# Create inputs and targets\n",
        "inputs, targets = ns_df[['age']], ns_df.charges\n",
        "\n",
        "# Create and train the model\n",
        "model = LinearRegression().fit(inputs, targets)\n",
        "\n",
        "# Generate predictions\n",
        "predictions = model.predict(inputs)\n",
        "\n",
        "# Compute loss to evaluate the model\n",
        "rmse(targets, predictions)"
      ]
    },
    {
      "cell_type": "code",
      "execution_count": null,
      "metadata": {
        "id": "Sm3BDyS91ZCA"
      },
      "outputs": [],
      "source": []
    },
    {
      "cell_type": "markdown",
      "metadata": {
        "id": "ymGblW4E1ZCA"
      },
      "source": [
        "### Linear Regression using Multiple Features"
      ]
    },
    {
      "cell_type": "markdown",
      "metadata": {
        "id": "-_CnB5TG1ZCA"
      },
      "source": [
        "charges = w1 * age + w2 * bmi + b"
      ]
    },
    {
      "cell_type": "code",
      "execution_count": null,
      "metadata": {
        "id": "Q_MW4gka1ZCB"
      },
      "outputs": [],
      "source": [
        "inputs = ns_df[['age', 'bmi']]\n",
        "targets = ns_df.charges\n",
        "\n",
        "model = LinearRegression().fit(inputs, targets)\n",
        "predictions = model.predict(inputs)\n",
        "\n",
        "rmse(targets, predictions)"
      ]
    },
    {
      "cell_type": "markdown",
      "metadata": {
        "id": "OgpT5_121ZCB"
      },
      "source": [
        "- No such impact of BMI on charges\n",
        "- There is no such relationship between BMI and charges"
      ]
    },
    {
      "cell_type": "markdown",
      "metadata": {
        "id": "ZfVjX9GU1ZCB"
      },
      "source": [
        "charges = w * bmi + b"
      ]
    },
    {
      "cell_type": "code",
      "execution_count": null,
      "metadata": {
        "id": "q0STlmFv1ZCB"
      },
      "outputs": [],
      "source": [
        "inputs, targets = ns_df[['bmi']], ns_df.charges\n",
        "model = LinearRegression().fit(inputs, targets)\n",
        "predictions = model.predict(inputs)\n",
        "rmse(targets, predictions)"
      ]
    },
    {
      "cell_type": "markdown",
      "metadata": {
        "id": "nKIXnIY41ZCB"
      },
      "source": [
        "- When we are estimating charges using BMI instead of age then there is an increament of error from 4600 to 6000 which almost jump of almost 30%"
      ]
    },
    {
      "cell_type": "code",
      "execution_count": null,
      "metadata": {
        "id": "SPLPnzEG1ZCC"
      },
      "outputs": [],
      "source": []
    },
    {
      "cell_type": "markdown",
      "metadata": {
        "id": "ZYUCijlN1ZCC"
      },
      "source": [
        "charges = w1 * age + w2 * bmi + w3 * children + b"
      ]
    },
    {
      "cell_type": "code",
      "execution_count": null,
      "metadata": {
        "id": "iRq-X36G1ZCD"
      },
      "outputs": [],
      "source": [
        "ns_df.charges.corr(ns_df.children)"
      ]
    },
    {
      "cell_type": "code",
      "execution_count": null,
      "metadata": {
        "id": "0O6EBNGE1ZCD"
      },
      "outputs": [],
      "source": [
        "sns.swarmplot(ns_df, x='children', y='charges', size=1.2)"
      ]
    },
    {
      "cell_type": "code",
      "execution_count": null,
      "metadata": {
        "id": "dkM4Mn4D1ZCG"
      },
      "outputs": [],
      "source": [
        "sns.stripplot(ns_df, x='children', y='charges', size=2)"
      ]
    },
    {
      "cell_type": "code",
      "execution_count": null,
      "metadata": {
        "id": "atjlyju21ZCG"
      },
      "outputs": [],
      "source": [
        "inputs, targets = ns_df[['age', 'bmi', 'children']], ns_df.charges\n",
        "model = LinearRegression().fit(inputs, targets)\n",
        "predictions = model.predict(inputs)\n",
        "rmse(targets, predictions)"
      ]
    },
    {
      "cell_type": "markdown",
      "metadata": {
        "id": "g5SALtk21ZCH"
      },
      "source": [
        "- Slight reduction but now that much useful"
      ]
    },
    {
      "cell_type": "code",
      "execution_count": null,
      "metadata": {
        "id": "TuqcDXPJ1ZCI"
      },
      "outputs": [],
      "source": [
        "# For smokers\n",
        "\n",
        "inputs, targets = s_df[['age', 'bmi']], s_df.charges\n",
        "model = LinearRegression().fit(inputs, targets)\n",
        "predictions = model.predict(inputs)\n",
        "rmse(targets, predictions)"
      ]
    },
    {
      "cell_type": "markdown",
      "metadata": {
        "id": "Xj2MoZRS1ZCJ"
      },
      "source": [
        "- There is almost 50% reduction in error while using age alnong with BMI for smokers"
      ]
    },
    {
      "cell_type": "code",
      "execution_count": null,
      "metadata": {
        "id": "0U8IqZTM1ZCJ"
      },
      "outputs": [],
      "source": [
        "inputs, targets = s_df[['age', 'bmi', 'children']], s_df.charges\n",
        "model = LinearRegression().fit(inputs, targets)\n",
        "predictions = model.predict(inputs)\n",
        "rmse(targets, predictions)"
      ]
    },
    {
      "cell_type": "markdown",
      "metadata": {
        "id": "bp-A7UC91ZCK"
      },
      "source": [
        "- No such reduction on using children along with age and BMI"
      ]
    },
    {
      "cell_type": "code",
      "execution_count": null,
      "metadata": {
        "id": "mjvHhLHG1ZCK"
      },
      "outputs": [],
      "source": []
    },
    {
      "cell_type": "markdown",
      "metadata": {
        "id": "jLNI6CAG1ZCL"
      },
      "source": [
        "> Performing Linear Regression on whole dataset"
      ]
    },
    {
      "cell_type": "code",
      "execution_count": null,
      "metadata": {
        "id": "M8nW1Sjn1ZCM"
      },
      "outputs": [],
      "source": [
        "df.head()"
      ]
    },
    {
      "cell_type": "code",
      "execution_count": null,
      "metadata": {
        "id": "ppiwcDvX1ZCM"
      },
      "outputs": [],
      "source": [
        "inputs, targets = df[['age']], df.charges\n",
        "model = LinearRegression().fit(inputs, targets)\n",
        "predictions = model.predict(inputs)\n",
        "rmse(targets, predictions)"
      ]
    },
    {
      "cell_type": "code",
      "execution_count": null,
      "metadata": {
        "id": "EKTFxvvL1ZCM"
      },
      "outputs": [],
      "source": [
        "inputs, targets = df[['age', 'bmi']], df.charges\n",
        "model = LinearRegression().fit(inputs, targets)\n",
        "predictions = model.predict(inputs)\n",
        "rmse(targets, predictions)"
      ]
    },
    {
      "cell_type": "code",
      "execution_count": null,
      "metadata": {
        "id": "l1VO56HX1ZCN"
      },
      "outputs": [],
      "source": [
        "inputs, targets = df[['age', 'bmi', 'children']], df.charges\n",
        "model = LinearRegression().fit(inputs, targets)\n",
        "predictions = model.predict(inputs)\n",
        "rmse(targets, predictions)"
      ]
    },
    {
      "cell_type": "markdown",
      "metadata": {
        "id": "-nZ6kUoj1ZCN"
      },
      "source": [
        "- Whene determining charges for whole dataset using age, BMI, children is a huge error in calculating the charges\n",
        "- Even combinations of these things are not making the fitting better\n",
        "- This is due to the variations of charges from smokers to non smokers"
      ]
    },
    {
      "cell_type": "code",
      "execution_count": null,
      "metadata": {
        "id": "G0-L4HVp1ZCN"
      },
      "outputs": [],
      "source": [
        "sns.scatterplot(df, x='age', y='charges', hue='smoker')"
      ]
    },
    {
      "cell_type": "code",
      "execution_count": null,
      "metadata": {
        "id": "HzhXPJe01ZCO"
      },
      "outputs": [],
      "source": []
    },
    {
      "cell_type": "markdown",
      "metadata": {
        "id": "jltvm6-t1ZCO"
      },
      "source": [
        "### Now we perform Linear Regression on categorical Data"
      ]
    },
    {
      "cell_type": "markdown",
      "metadata": {
        "id": "xRUV0U8t1ZCP"
      },
      "source": [
        "1. If a categorical column has just two categories --> then go for label them with 0's and 1's\n",
        "2. If the categorical column has more than two categorical values --> then go for one-hot encoding\n",
        "3. If the categorical column has natural order ( like cold, neutral, warm, hot ) --> give them order to preserve the order ( like 1, 2, 3, 4 for cold, neutral, warm, hot respectively )"
      ]
    },
    {
      "cell_type": "markdown",
      "metadata": {
        "id": "IzB8lEzK1ZCP"
      },
      "source": [
        "#### Binary Categories"
      ]
    },
    {
      "cell_type": "code",
      "execution_count": null,
      "metadata": {
        "id": "jDBLdzQQ1ZCQ"
      },
      "outputs": [],
      "source": [
        "sns.countplot(df, x='smoker')"
      ]
    },
    {
      "cell_type": "code",
      "execution_count": null,
      "metadata": {
        "id": "8b4Ilw4M1ZCR"
      },
      "outputs": [],
      "source": [
        "smoker_code = {'yes': 1, 'no': 0}\n",
        "df['smoker_code'] = df.smoker.map(smoker_code)"
      ]
    },
    {
      "cell_type": "code",
      "execution_count": null,
      "metadata": {
        "id": "Ay47k-wb1ZCR"
      },
      "outputs": [],
      "source": [
        "df.head()"
      ]
    },
    {
      "cell_type": "code",
      "execution_count": null,
      "metadata": {
        "id": "YXrPcX1P1ZCT"
      },
      "outputs": [],
      "source": [
        "df.charges.corr(df.smoker_code)"
      ]
    },
    {
      "cell_type": "markdown",
      "metadata": {
        "id": "nZ3acAHM1ZCT"
      },
      "source": [
        "charges = w1 * age + w2 * bmi + w3 * children + w4 * smoker + b"
      ]
    },
    {
      "cell_type": "code",
      "execution_count": null,
      "metadata": {
        "id": "uXRzuQNH1ZCU"
      },
      "outputs": [],
      "source": [
        "inputs, targets = df[['age', 'bmi', 'children', 'smoker_code']], df.charges\n",
        "model = LinearRegression().fit(inputs, targets)\n",
        "predictions = model.predict(inputs)\n",
        "rmse(targets, predictions)"
      ]
    },
    {
      "cell_type": "markdown",
      "metadata": {
        "id": "Gkm2TzpC1ZCV"
      },
      "source": [
        "- Error has been reduced significantly after introdusing smoker as a numerical value --> almost 45% reduction"
      ]
    },
    {
      "cell_type": "markdown",
      "metadata": {
        "id": "hbTVtIgZ1ZCV"
      },
      "source": [
        "> Never ignore categorical data it may be a deciding factor"
      ]
    },
    {
      "cell_type": "code",
      "execution_count": null,
      "metadata": {
        "id": "yTIQWgCH1ZCW"
      },
      "outputs": [],
      "source": [
        "sex_code = {'male': 1, 'female': 0}\n",
        "df['sex_code'] = df.sex.map(sex_code)\n",
        "df.head()"
      ]
    },
    {
      "cell_type": "code",
      "execution_count": null,
      "metadata": {
        "id": "ChsOVLLo1ZCX"
      },
      "outputs": [],
      "source": [
        "df.charges.corr(df.sex_code)\n",
        "# Almost no correlation"
      ]
    },
    {
      "cell_type": "code",
      "execution_count": null,
      "metadata": {
        "id": "LRNaGJvd1ZCX"
      },
      "outputs": [],
      "source": [
        "inputs, targets = df[['age', 'bmi', 'children', 'smoker_code','sex_code']], df.charges\n",
        "model = LinearRegression().fit(inputs, targets)\n",
        "predictions = model.predict(inputs)\n",
        "rmse(targets, predictions)"
      ]
    },
    {
      "cell_type": "markdown",
      "metadata": {
        "id": "KEiZfMMs1ZCY"
      },
      "source": [
        "- Sex has negligible effect on charges"
      ]
    },
    {
      "cell_type": "code",
      "execution_count": null,
      "metadata": {
        "id": "jdIfn8yo1ZCZ"
      },
      "outputs": [],
      "source": [
        "df.region.value_counts()"
      ]
    },
    {
      "cell_type": "code",
      "execution_count": null,
      "metadata": {
        "id": "yB-lXj6h1ZCZ"
      },
      "outputs": [],
      "source": [
        "from sklearn import preprocessing\n",
        "encoder = preprocessing.OneHotEncoder()\n",
        "encoder.fit(df[['region']])\n",
        "encoder.categories_"
      ]
    },
    {
      "cell_type": "code",
      "execution_count": null,
      "metadata": {
        "id": "PrbVOk871ZCa"
      },
      "outputs": [],
      "source": [
        "encoder.transform([['northeast'], ['southeast']]).toarray()\n",
        "# it will transform according to the order of categories it have"
      ]
    },
    {
      "cell_type": "code",
      "execution_count": null,
      "metadata": {
        "id": "u_i5FsXh1ZCa"
      },
      "outputs": [],
      "source": [
        "one_hot = encoder.transform(df[['region']]).toarray()\n",
        "one_hot"
      ]
    },
    {
      "cell_type": "code",
      "execution_count": null,
      "metadata": {
        "id": "lurHX2ZJ1ZCb"
      },
      "outputs": [],
      "source": [
        "df[['northeast', 'northwest', 'southeast', 'ssouthwest']] = one_hot"
      ]
    },
    {
      "cell_type": "code",
      "execution_count": null,
      "metadata": {
        "id": "3KEVCMzy1ZCb"
      },
      "outputs": [],
      "source": [
        "df.head()"
      ]
    },
    {
      "cell_type": "code",
      "execution_count": null,
      "metadata": {
        "id": "Vjo8F_a91ZCc"
      },
      "outputs": [],
      "source": []
    },
    {
      "cell_type": "markdown",
      "metadata": {
        "id": "F2oUzC7z1ZCc"
      },
      "source": [
        "charges = w1 * age + w2 * bmi + w3 * children + w4 * smoker + w5 * sex + (w6 + w7 + w8 + w9) * region + b"
      ]
    },
    {
      "cell_type": "code",
      "execution_count": null,
      "metadata": {
        "id": "KbzzCukt1ZCd"
      },
      "outputs": [],
      "source": [
        "inputs, targets = df[['age', 'bmi', 'children', 'smoker_code','sex_code', 'northeast', 'northwest', 'southeast', 'ssouthwest']], df.charges\n",
        "model = LinearRegression().fit(inputs, targets)\n",
        "predictions = model.predict(inputs)\n",
        "rmse(targets, predictions)"
      ]
    },
    {
      "cell_type": "markdown",
      "metadata": {
        "id": "_7Zh-1GG1ZCe"
      },
      "source": [
        "- Slight reduction in error after introducing region into figure\n",
        "- Age and Smoker are doing much of the predictions"
      ]
    },
    {
      "cell_type": "code",
      "execution_count": null,
      "metadata": {
        "id": "DMssr0NW1ZCe"
      },
      "outputs": [],
      "source": [
        "# Only for smoker using region after one-hot encoding\n",
        "\n",
        "sm_df = df[df.smoker == 'yes']\n",
        "inputs, targets = sm_df[['age', 'bmi', 'children', 'smoker_code','sex_code', 'northeast', 'northwest', 'southeast', 'ssouthwest']], sm_df.charges\n",
        "model = LinearRegression().fit(inputs, targets)\n",
        "predictions = model.predict(inputs)\n",
        "rmse(targets, predictions)"
      ]
    },
    {
      "cell_type": "markdown",
      "metadata": {
        "id": "4hmbhf291ZCf"
      },
      "source": [
        "- Slight reduction after introducing region into smoker dataframe"
      ]
    },
    {
      "cell_type": "code",
      "execution_count": null,
      "metadata": {
        "id": "1rwtSvSw1ZCf"
      },
      "outputs": [],
      "source": [
        "nsm_df = df[df.smoker == 'no']\n",
        "inputs, targets = nsm_df[['age', 'bmi', 'children', 'smoker_code','sex_code', 'northeast', 'northwest', 'southeast', 'ssouthwest']], nsm_df.charges\n",
        "model = LinearRegression().fit(inputs, targets)\n",
        "predictions = model.predict(inputs)\n",
        "rmse(targets, predictions)"
      ]
    },
    {
      "cell_type": "markdown",
      "metadata": {
        "id": "E5t_pcyp1ZCg"
      },
      "source": [
        "- Slight reduction in non smoker error after introducing region into figure"
      ]
    },
    {
      "cell_type": "markdown",
      "metadata": {
        "id": "QlweecDS1ZCg"
      },
      "source": [
        "> Sometime multiple regression models are better to use than one"
      ]
    },
    {
      "cell_type": "code",
      "execution_count": null,
      "metadata": {
        "id": "XQNvjwba1ZCh"
      },
      "outputs": [],
      "source": [
        "model.predict([[28, 30, 2, 0, 0, 0, 1, 0, 0]])"
      ]
    },
    {
      "cell_type": "markdown",
      "metadata": {
        "id": "QfVJxLJg1ZCh"
      },
      "source": [
        "### Model Improvement"
      ]
    },
    {
      "cell_type": "markdown",
      "metadata": {
        "id": "FDlvrG111ZCi"
      },
      "source": [
        "#### Feature Scaling"
      ]
    },
    {
      "cell_type": "code",
      "execution_count": null,
      "metadata": {
        "id": "BIkngtcC1ZCi"
      },
      "outputs": [],
      "source": [
        "model.coef_"
      ]
    },
    {
      "cell_type": "code",
      "execution_count": null,
      "metadata": {
        "id": "brRm1yaK1ZC3"
      },
      "outputs": [],
      "source": [
        "model.intercept_"
      ]
    },
    {
      "cell_type": "code",
      "execution_count": null,
      "metadata": {
        "id": "7eR2xoNv1ZC4"
      },
      "outputs": [],
      "source": [
        "input_cols = ['age', 'bmi', 'children', 'smoker_code','sex_code', 'northeast', 'northwest', 'southeast', 'ssouthwest']\n",
        "inputs, targets = df[input_cols], df.charges\n",
        "\n",
        "model = LinearRegression().fit(inputs, targets)\n",
        "predictions = model.predict(inputs)\n",
        "rmse(targets, predictions)"
      ]
    },
    {
      "cell_type": "code",
      "execution_count": null,
      "metadata": {
        "id": "iITuLQWn1ZC5"
      },
      "outputs": [],
      "source": [
        "model.predict([[28, 30, 2, 1, 0, 0, 1, 0, 0]])"
      ]
    },
    {
      "cell_type": "code",
      "execution_count": null,
      "metadata": {
        "id": "uCPfklnU1ZC7"
      },
      "outputs": [],
      "source": [
        "weights_df = pd.DataFrame({\n",
        "  'features': np.append(input_cols, 1),\n",
        "  'weght': np.append(model.coef_, model.intercept_)\n",
        "})\n",
        "weights_df"
      ]
    },
    {
      "cell_type": "markdown",
      "metadata": {
        "id": "yKmUtCGu1ZC8"
      },
      "source": [
        "- We can see the uneven distribution of weights over age, bmi, children, sex_code, and regions\n",
        "- BMI have more weight than age, similarly with many other weights\n",
        "- Weight is not in sync with data\n",
        "- So we can't say which feature is more important and which one is less"
      ]
    },
    {
      "cell_type": "markdown",
      "metadata": {
        "id": "XmznFhPf1ZC8"
      },
      "source": [
        "> So we will standardize the features"
      ]
    },
    {
      "cell_type": "code",
      "execution_count": null,
      "metadata": {
        "id": "eHuZyhfd1ZC9"
      },
      "outputs": [],
      "source": [
        "from sklearn.preprocessing import StandardScaler"
      ]
    },
    {
      "cell_type": "code",
      "execution_count": null,
      "metadata": {
        "id": "koUk-w-K1ZC9"
      },
      "outputs": [],
      "source": [
        "numeric_cols = ['age', 'bmi', 'children']\n",
        "scaler = StandardScaler()\n",
        "scaler.fit(df[numeric_cols])"
      ]
    },
    {
      "cell_type": "code",
      "execution_count": null,
      "metadata": {
        "id": "REoOpJiZ1ZC9"
      },
      "outputs": [],
      "source": [
        "scaler.mean_, scaler.var_"
      ]
    },
    {
      "cell_type": "code",
      "execution_count": null,
      "metadata": {
        "id": "Lq4OMhRN1ZC-"
      },
      "outputs": [],
      "source": [
        "scaled_inputs = scaler.transform(df[numeric_cols])\n",
        "scaled_inputs\n",
        "# After standardization data will come in between -1 and 1"
      ]
    },
    {
      "cell_type": "code",
      "execution_count": null,
      "metadata": {
        "id": "6Gbre_EP1ZC-"
      },
      "outputs": [],
      "source": [
        "cat_cols = ['smoker_code','sex_code', 'northeast', 'northwest', 'southeast', 'ssouthwest']\n",
        "cat_data = df[cat_cols].values\n",
        "cat_data"
      ]
    },
    {
      "cell_type": "code",
      "execution_count": null,
      "metadata": {
        "id": "5h_7AW9j1ZC_"
      },
      "outputs": [],
      "source": [
        "inputs = np.concatenate((scaled_inputs, cat_data), axis=1)\n",
        "model = LinearRegression().fit(inputs, targets)\n",
        "predictions = model.predict(inputs)\n",
        "rmse(targets, predictions)"
      ]
    },
    {
      "cell_type": "code",
      "execution_count": null,
      "metadata": {
        "id": "osIh5mvK1ZC_"
      },
      "outputs": [],
      "source": [
        "inputs[0]"
      ]
    },
    {
      "cell_type": "code",
      "execution_count": null,
      "metadata": {
        "id": "0mJltZtN1ZC_"
      },
      "outputs": [],
      "source": [
        "weights_df = pd.DataFrame({\n",
        "  'features': np.append(input_cols, 1),\n",
        "  'weght': np.append(model.coef_, model.intercept_)\n",
        "})\n",
        "weights_df"
      ]
    },
    {
      "cell_type": "code",
      "execution_count": null,
      "metadata": {
        "id": "1j0S-SGV1ZC_"
      },
      "outputs": [],
      "source": [
        "new_customer = [[28, 30, 2, 1, 0, 0, 1, 0, 0]]\n",
        "scaler.transform([[28, 30, 2]])"
      ]
    },
    {
      "cell_type": "code",
      "execution_count": null,
      "metadata": {
        "id": "wPA-5JsY1ZDA"
      },
      "outputs": [],
      "source": [
        "model.predict([[-0.79795355, -0.10882659,  0.75107928, 1, 0, 0, 1, 0, 0]])"
      ]
    },
    {
      "cell_type": "markdown",
      "metadata": {
        "id": "9tiHsuNM1ZDB"
      },
      "source": [
        "- So most important features are:\n",
        "1. Smoker\n",
        "2. Age\n",
        "3. BMI"
      ]
    },
    {
      "cell_type": "code",
      "execution_count": null,
      "metadata": {
        "id": "p5zqTqHU1ZDC"
      },
      "outputs": [],
      "source": []
    },
    {
      "cell_type": "code",
      "execution_count": null,
      "metadata": {
        "id": "mc9x86O813iE"
      },
      "outputs": [],
      "source": []
    }
  ],
  "metadata": {
    "colab": {
      "provenance": []
    },
    "kernelspec": {
      "display_name": "Python 3",
      "language": "python",
      "name": "python3"
    },
    "language_info": {
      "codemirror_mode": {
        "name": "ipython",
        "version": 3
      },
      "file_extension": ".py",
      "mimetype": "text/x-python",
      "name": "python",
      "nbconvert_exporter": "python",
      "pygments_lexer": "ipython3",
      "version": "3.12.1"
    }
  },
  "nbformat": 4,
  "nbformat_minor": 0
}